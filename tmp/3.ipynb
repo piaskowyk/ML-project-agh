{
 "cells": [
  {
   "cell_type": "markdown",
   "metadata": {},
   "source": [
    "## Projekt 2\n",
    "\n",
    "Zbiór danych: CIFAR-10 obrazki kolorowe, 70000 próbek, 10 klas\n",
    "\n",
    "Celem projektu jest porównanie dwóch klasyfikatorów: klasyfikatora SVM użytego dla danych wygenerowanych przez prostą sieć CNN oraz klasyfikatora MLP. \n",
    "\n",
    "Trenujemy prostą kilkuwarstwową sieć CNN dla 4 czasów trenowania: bardzo krótki, krótki, średni, pełny. Sieć taką można łatwo znaleźć. (sieć CNN składa się z części konwolucyjnej i MLP, dlatego wyniki dla klasyfikatora MLP będą takie same jak dla całej sieci CNN).\n",
    "\n",
    "Po zadanych czasach trenowania t1, t2, t3, t4, zrzucić wektory reprezentujące obrazki które wchodzą na sieć MLP. Te wektory użyć do klasyfikacji metodą SVM. \n",
    "\n",
    "Wyniki jakości klasyfikatorów oceniać na bazie krzyżowej-walidacji, (accuracy - Loss-błąd, Krzywa ROC, Precision-Recall, (pola pod krzywymi) F1). Dokonać porównania wyników tzn: accuracy i loss dla trzech budżetów czasowych T1, T2, T3 (krótki, średni, długi). Tym sposobem porównać jakość klasyfikatorów tj. pełnej, uczonej sieci CNN w zadanych czasach oraz tej „kombinowanej” z SVM. \n",
    "\n",
    "Należy sporządzić raport z projektu."
   ]
  },
  {
   "cell_type": "code",
   "execution_count": 1,
   "metadata": {},
   "outputs": [
    {
     "name": "stderr",
     "output_type": "stream",
     "text": [
      "Using TensorFlow backend.\n"
     ]
    }
   ],
   "source": [
    "from __future__ import print_function\n",
    "import keras\n",
    "from keras.datasets import cifar10\n",
    "from keras.preprocessing.image import ImageDataGenerator\n",
    "from keras.models import Sequential\n",
    "from keras.layers import Dense, Dropout, Activation, Flatten\n",
    "from keras.layers import Conv2D, MaxPooling2D\n",
    "import os\n",
    "\n",
    "import numpy as np\n",
    "import matplotlib.pyplot as plt\n",
    "\n",
    "from sklearn.datasets import fetch_openml\n",
    "from sklearn.base import ClassifierMixin\n",
    "from sklearn.model_selection import train_test_split\n",
    "import seaborn\n",
    "\n",
    "import math\n",
    "import time\n",
    "from sklearn import svm\n",
    "from sklearn.metrics import classification_report, accuracy_score, auc\n",
    "\n",
    "import pandas as pd\n",
    "import seaborn as sns\n",
    "import random\n",
    "import matplotlib\n",
    "import warnings\n",
    "from sklearn.preprocessing import label_binarize\n",
    "from sklearn.svm import SVC\n",
    "from sklearn.metrics import (accuracy_score, plot_roc_curve, roc_curve,\n",
    "                             precision_recall_curve, plot_precision_recall_curve, f1_score, average_precision_score, \n",
    "                             hinge_loss, precision_score, recall_score)\n",
    "from sklearn.model_selection import train_test_split, cross_val_score\n",
    "from imgaug import augmenters as iaa\n",
    "from sklearn.svm import LinearSVC\n",
    "from IPython.display import display\n",
    "\n",
    "from keras import backend as K\n",
    "from keras.utils import to_categorical\n",
    "%matplotlib inline"
   ]
  },
  {
   "cell_type": "markdown",
   "metadata": {},
   "source": [
    "### const"
   ]
  },
  {
   "cell_type": "code",
   "execution_count": 2,
   "metadata": {},
   "outputs": [],
   "source": [
    "batch_size = 32\n",
    "num_classes = 10\n",
    "epochs = 1\n",
    "num_predictions = 20"
   ]
  },
  {
   "cell_type": "markdown",
   "metadata": {},
   "source": [
    "### functions"
   ]
  },
  {
   "cell_type": "code",
   "execution_count": 3,
   "metadata": {},
   "outputs": [],
   "source": [
    "def train_model(model, x_train, y_train, batch_size, epochs, x_test, y_test):\n",
    "    return model.fit(x_train, y_train,\n",
    "              batch_size=batch_size,\n",
    "              epochs=epochs,\n",
    "              validation_data=(x_test, y_test),\n",
    "              shuffle=True)\n",
    "\n",
    "def print_plots(history):\n",
    "    accuracy = history.history['accuracy']\n",
    "    val_accuracy = history.history['val_accuracy']\n",
    "    loss = history.history['loss']\n",
    "    val_loss = history.history['val_loss']\n",
    "    epochs = range(len(accuracy))\n",
    "    plt.plot(epochs, accuracy, 'r', label='Training accuracy')\n",
    "    plt.plot(epochs, val_accuracy, 'b', label='Validation accuracy')\n",
    "    plt.title('Training and validation accuracy')\n",
    "    plt.legend()\n",
    "    plt.figure()\n",
    "    plt.plot(epochs, loss, 'r', label='Training loss')\n",
    "    plt.plot(epochs, val_loss, 'b', label='Validation loss')\n",
    "    plt.title('Training and validation loss')\n",
    "    plt.legend()\n",
    "    plt.show()\n",
    "    \n",
    "def print_roc(fpr, tpr):\n",
    "    plt.figure(1)\n",
    "    plt.plot([0, 1], [0, 1], 'k--')\n",
    "    plt.plot(fpr, tpr, label='RF (area = {:.3f})'.format(auc(fpr, tpr)))\n",
    "    plt.xlabel('False positive rate')\n",
    "    plt.ylabel('True positive rate')\n",
    "    plt.title('ROC curve')\n",
    "    plt.legend(loc='best')\n",
    "    plt.show()\n",
    "    \n",
    "def maximum_predict(data):\n",
    "    out = []\n",
    "    for item in data:\n",
    "        i = 0\n",
    "        for sub_item in item:\n",
    "            if sub_item == 1:\n",
    "                out.append(i)\n",
    "                break;\n",
    "            i += 1\n",
    "    return out"
   ]
  },
  {
   "cell_type": "code",
   "execution_count": 4,
   "metadata": {},
   "outputs": [],
   "source": [
    "(x_train, y_train), (x_test, y_test) = cifar10.load_data()"
   ]
  },
  {
   "cell_type": "code",
   "execution_count": 5,
   "metadata": {},
   "outputs": [],
   "source": [
    "# Convert class vectors to binary class matrices.\n",
    "num_classes = 10\n",
    "y_train = keras.utils.to_categorical(y_train, num_classes)\n",
    "y_test = keras.utils.to_categorical(y_test, num_classes)\n",
    "\n",
    "# simple normalisation\n",
    "x_train = x_train.astype('float16')\n",
    "x_test = x_test.astype('float16')\n",
    "x_train /= 255\n",
    "x_test /= 255\n",
    "\n",
    "# size = 50000\n",
    "# x_train = x_train[:size]\n",
    "# x_test = x_test[:size]\n",
    "# y_train = y_train[:size]\n",
    "# y_test = y_test[:size]"
   ]
  },
  {
   "cell_type": "code",
   "execution_count": 6,
   "metadata": {},
   "outputs": [],
   "source": [
    "# definiton of CNN model\n",
    "\n",
    "model = Sequential()\n",
    "model.add(Conv2D(32, (3, 3), padding='same',\n",
    "                 input_shape=x_train.shape[1:]))\n",
    "model.add(Activation('relu'))\n",
    "model.add(Conv2D(32, (3, 3)))\n",
    "model.add(Activation('relu'))\n",
    "model.add(MaxPooling2D(pool_size=(2, 2)))\n",
    "model.add(Dropout(0.25))\n",
    "\n",
    "model.add(Conv2D(64, (3, 3), padding='same'))\n",
    "model.add(Activation('relu'))\n",
    "model.add(Conv2D(64, (3, 3)))\n",
    "model.add(Activation('relu'))\n",
    "model.add(MaxPooling2D(pool_size=(2, 2)))\n",
    "model.add(Dropout(0.25))\n",
    "\n",
    "model.add(Flatten())\n",
    "model.add(Dense(512))\n",
    "model.add(Activation('relu'))\n",
    "model.add(Dropout(0.5))\n",
    "model.add(Dense(num_classes))\n",
    "model.add(Activation('softmax'))"
   ]
  },
  {
   "cell_type": "code",
   "execution_count": 7,
   "metadata": {},
   "outputs": [
    {
     "name": "stdout",
     "output_type": "stream",
     "text": [
      "Model: \"sequential_1\"\n",
      "_________________________________________________________________\n",
      "Layer (type)                 Output Shape              Param #   \n",
      "=================================================================\n",
      "conv2d_1 (Conv2D)            (None, 32, 32, 32)        896       \n",
      "_________________________________________________________________\n",
      "activation_1 (Activation)    (None, 32, 32, 32)        0         \n",
      "_________________________________________________________________\n",
      "conv2d_2 (Conv2D)            (None, 30, 30, 32)        9248      \n",
      "_________________________________________________________________\n",
      "activation_2 (Activation)    (None, 30, 30, 32)        0         \n",
      "_________________________________________________________________\n",
      "max_pooling2d_1 (MaxPooling2 (None, 15, 15, 32)        0         \n",
      "_________________________________________________________________\n",
      "dropout_1 (Dropout)          (None, 15, 15, 32)        0         \n",
      "_________________________________________________________________\n",
      "conv2d_3 (Conv2D)            (None, 15, 15, 64)        18496     \n",
      "_________________________________________________________________\n",
      "activation_3 (Activation)    (None, 15, 15, 64)        0         \n",
      "_________________________________________________________________\n",
      "conv2d_4 (Conv2D)            (None, 13, 13, 64)        36928     \n",
      "_________________________________________________________________\n",
      "activation_4 (Activation)    (None, 13, 13, 64)        0         \n",
      "_________________________________________________________________\n",
      "max_pooling2d_2 (MaxPooling2 (None, 6, 6, 64)          0         \n",
      "_________________________________________________________________\n",
      "dropout_2 (Dropout)          (None, 6, 6, 64)          0         \n",
      "_________________________________________________________________\n",
      "flatten_1 (Flatten)          (None, 2304)              0         \n",
      "_________________________________________________________________\n",
      "dense_1 (Dense)              (None, 512)               1180160   \n",
      "_________________________________________________________________\n",
      "activation_5 (Activation)    (None, 512)               0         \n",
      "_________________________________________________________________\n",
      "dropout_3 (Dropout)          (None, 512)               0         \n",
      "_________________________________________________________________\n",
      "dense_2 (Dense)              (None, 10)                5130      \n",
      "_________________________________________________________________\n",
      "activation_6 (Activation)    (None, 10)                0         \n",
      "=================================================================\n",
      "Total params: 1,250,858\n",
      "Trainable params: 1,250,858\n",
      "Non-trainable params: 0\n",
      "_________________________________________________________________\n",
      "None\n"
     ]
    }
   ],
   "source": [
    "# Let's train the model using RMSprop\n",
    "model.compile(loss='categorical_crossentropy',\n",
    "              optimizer=keras.optimizers.RMSprop(learning_rate=0.0001, decay=1e-6),\n",
    "              metrics=['accuracy'])\n",
    "\n",
    "print(model.summary())"
   ]
  },
  {
   "cell_type": "code",
   "execution_count": 8,
   "metadata": {},
   "outputs": [
    {
     "name": "stdout",
     "output_type": "stream",
     "text": [
      "Train on 50000 samples, validate on 10000 samples\n",
      "Epoch 1/1\n",
      "50000/50000 [==============================] - 60s 1ms/step - loss: 1.8252 - accuracy: 0.3334 - val_loss: 1.5984 - val_accuracy: 0.4309\n"
     ]
    }
   ],
   "source": [
    "history = train_model(model, x_train, y_train, batch_size, epochs, x_test, y_test)"
   ]
  },
  {
   "cell_type": "code",
   "execution_count": 9,
   "metadata": {},
   "outputs": [
    {
     "data": {
      "image/png": "[encoded data removed]",
      "text/plain": [
       "<Figure size 432x288 with 1 Axes>"
      ]
     },
     "metadata": {
      "needs_background": "light"
     },
     "output_type": "display_data"
    },
    {
     "data": {
      "image/png": "[encoded data removed]",
      "text/plain": [
       "<Figure size 432x288 with 1 Axes>"
      ]
     },
     "metadata": {
      "needs_background": "light"
     },
     "output_type": "display_data"
    },
    {
     "name": "stdout",
     "output_type": "stream",
     "text": [
      "10000/10000 [==============================] - 3s 268us/step\n",
      "Test loss: 1.5984307607650756\n",
      "Test accuracy: 0.4309000074863434\n"
     ]
    }
   ],
   "source": [
    "print_plots(history)\n",
    "scores = model.evaluate(x_test, y_test, verbose=1)\n",
    "print('Test loss:', scores[0])\n",
    "print('Test accuracy:', scores[1])"
   ]
  },
  {
   "cell_type": "code",
   "execution_count": 10,
   "metadata": {},
   "outputs": [
    {
     "name": "stdout",
     "output_type": "stream",
     "text": [
      "              precision    recall  f1-score   support\n",
      "\n",
      "           0       0.46      0.46      0.46      1000\n",
      "           1       0.38      0.80      0.52      1000\n",
      "           2       0.39      0.32      0.35      1000\n",
      "           3       0.37      0.17      0.24      1000\n",
      "           4       0.52      0.24      0.33      1000\n",
      "           5       0.50      0.27      0.35      1000\n",
      "           6       0.47      0.54      0.50      1000\n",
      "           7       0.44      0.52      0.48      1000\n",
      "           8       0.50      0.55      0.52      1000\n",
      "           9       0.36      0.44      0.40      1000\n",
      "\n",
      "    accuracy                           0.43     10000\n",
      "   macro avg       0.44      0.43      0.41     10000\n",
      "weighted avg       0.44      0.43      0.41     10000\n",
      "\n"
     ]
    },
    {
     "data": {
      "image/png": "[encoded data removed]",
      "text/plain": [
       "<Figure size 432x288 with 1 Axes>"
      ]
     },
     "metadata": {
      "needs_background": "light"
     },
     "output_type": "display_data"
    }
   ],
   "source": [
    "test_preds = model.predict_classes(x_test)\n",
    "predict_result = [item for item in test_preds]\n",
    "correct = maximum_predict(y_test)\n",
    "\n",
    "print(classification_report(correct, predict_result))\n",
    "\n",
    "fpr, tpr, thresholds = roc_curve(correct, predict_result, pos_label=2)\n",
    "\n",
    "print_roc(fpr, tpr)"
   ]
  },
  {
   "cell_type": "markdown",
   "metadata": {},
   "source": [
    "### SVM"
   ]
  },
  {
   "cell_type": "code",
   "execution_count": 18,
   "metadata": {},
   "outputs": [],
   "source": [
    "from keras.models import Model\n",
    "intermediate_layer_model = Model(inputs=model.input,\n",
    "                                 outputs=model.get_layer('dense_2').output)\n",
    "layer_output = intermediate_layer_model.predict(x_test)"
   ]
  },
  {
   "cell_type": "code",
   "execution_count": 19,
   "metadata": {},
   "outputs": [],
   "source": [
    "clf = SVC(kernel='linear', C=10)\n",
    "correct = maximum_predict(y_test)\n",
    "clf.fit(layer_output, correct)\n",
    "pred = clf.predict(layer_output)"
   ]
  },
  {
   "cell_type": "code",
   "execution_count": 20,
   "metadata": {},
   "outputs": [
    {
     "name": "stdout",
     "output_type": "stream",
     "text": [
      "Accuracy: 0.4854\n",
      "Hinge function loss: 1.84476748821265\n",
      "Recall score: 0.4854\n",
      "F1 score: 0.4854\n",
      "Precision score: 0.4854\n"
     ]
    },
    {
     "name": "stderr",
     "output_type": "stream",
     "text": [
      "/media/DATA/studia/ML/project/venv/lib/python3.6/site-packages/sklearn/metrics/_classification.py:1321: UserWarning: Note that pos_label (set to 'binary') is ignored when average != 'binary' (got 'micro'). You may use labels=[pos_label] to specify a single positive class.\n",
      "  % (pos_label, average), UserWarning)\n"
     ]
    },
    {
     "data": {
      "image/png": "[encoded data removed]",
      "text/plain": [
       "<Figure size 432x288 with 1 Axes>"
      ]
     },
     "metadata": {
      "needs_background": "light"
     },
     "output_type": "display_data"
    }
   ],
   "source": [
    "score = clf.score(layer_output, correct)\n",
    "print(f'Accuracy: {score}')\n",
    "\n",
    "predict = clf.decision_function(layer_output)\n",
    "score = hinge_loss(correct, predict)\n",
    "print(f'Hinge function loss: {score}')\n",
    "\n",
    "score = recall_score(correct, pred, pos_label=\"binary\", average=\"micro\")\n",
    "print(f'Recall score: {score}')\n",
    "\n",
    "score = f1_score(correct, pred, pos_label=\"binary\", average=\"micro\")\n",
    "print(f'F1 score: {score}')\n",
    "\n",
    "score = precision_score(correct, pred, pos_label=\"binary\", average=\"micro\")\n",
    "print(f'Precision score: {score}')\n",
    "\n",
    "fpr, tpr, thresholds = roc_curve(correct, pred, pos_label=2)\n",
    "print_roc(fpr, tpr)"
   ]
  },
  {
   "cell_type": "code",
   "execution_count": 21,
   "metadata": {},
   "outputs": [],
   "source": [
    "clf = SVC(kernel='rbf', C=10)\n",
    "\n",
    "clf.fit(layer_output, correct)\n",
    "pred = clf.predict(layer_output)"
   ]
  },
  {
   "cell_type": "code",
   "execution_count": 22,
   "metadata": {},
   "outputs": [
    {
     "name": "stdout",
     "output_type": "stream",
     "text": [
      "Accuracy: 0.5209\n",
      "Hinge function loss: 1.6114024307889039\n",
      "Recall score: 0.5209\n",
      "F1 score: 0.5209\n",
      "Precision score: 0.5209\n"
     ]
    },
    {
     "name": "stderr",
     "output_type": "stream",
     "text": [
      "/media/DATA/studia/ML/project/venv/lib/python3.6/site-packages/sklearn/metrics/_classification.py:1321: UserWarning: Note that pos_label (set to 'binary') is ignored when average != 'binary' (got 'micro'). You may use labels=[pos_label] to specify a single positive class.\n",
      "  % (pos_label, average), UserWarning)\n"
     ]
    },
    {
     "data": {
      "image/png": "[encoded data removed]",
      "text/plain": [
       "<Figure size 432x288 with 1 Axes>"
      ]
     },
     "metadata": {
      "needs_background": "light"
     },
     "output_type": "display_data"
    }
   ],
   "source": [
    "score = clf.score(layer_output, correct)\n",
    "print(f'Accuracy: {score}')\n",
    "\n",
    "predict = clf.decision_function(layer_output)\n",
    "score = hinge_loss(correct, predict)\n",
    "print(f'Hinge function loss: {score}')\n",
    "\n",
    "score = recall_score(correct, pred, pos_label=\"binary\", average=\"micro\")\n",
    "print(f'Recall score: {score}')\n",
    "\n",
    "score = f1_score(correct, pred, pos_label=\"binary\", average=\"micro\")\n",
    "print(f'F1 score: {score}')\n",
    "\n",
    "score = precision_score(correct, pred, pos_label=\"binary\", average=\"micro\")\n",
    "print(f'Precision score: {score}')\n",
    "\n",
    "fpr, tpr, thresholds = roc_curve(correct, pred, pos_label=2)\n",
    "print_roc(fpr, tpr)"
   ]
  }
 ],
 "metadata": {
  "kernelspec": {
   "display_name": "venv",
   "language": "python",
   "name": "venv"
  },
  "language_info": {
   "codemirror_mode": {
    "name": "ipython",
    "version": 3
   },
   "file_extension": ".py",
   "mimetype": "text/x-python",
   "name": "python",
   "nbconvert_exporter": "python",
   "pygments_lexer": "ipython3",
   "version": "3.6.9"
  }
 },
 "nbformat": 4,
 "nbformat_minor": 2
}
